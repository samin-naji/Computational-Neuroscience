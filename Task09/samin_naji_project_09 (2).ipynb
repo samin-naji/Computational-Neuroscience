{
  "cells": [
    {
      "cell_type": "markdown",
      "metadata": {
        "id": "vadQa3kUahjC"
      },
      "source": [
        "### Task 1 - Preproccess the data"
      ]
    },
    {
      "cell_type": "code",
      "execution_count": null,
      "metadata": {
        "id": "U_Etggg2byPV"
      },
      "outputs": [],
      "source": [
        "!pip install mne\n",
        "!pip install -U mne-connectivity"
      ]
    },
    {
      "cell_type": "code",
      "execution_count": 11,
      "metadata": {
        "id": "fuHiWaKjalHd"
      },
      "outputs": [],
      "source": [
        "import numpy as np\n",
        "import mne\n",
        "from scipy.io import loadmat\n",
        "from scipy.signal import welch\n",
        "from scipy.stats import ttest_ind\n",
        "import pandas as pd\n",
        "from sklearn.model_selection import train_test_split, cross_val_score\n",
        "from sklearn.svm import SVC\n",
        "from sklearn.ensemble import RandomForestClassifier\n",
        "from sklearn.metrics import accuracy_score\n",
        "from mne.time_frequency import tfr_morlet, psd_array_multitaper\n",
        "from scipy.signal import coherence\n",
        "from mne_connectivity import spectral_connectivity_epochs\n",
        "from joblib import Parallel, delayed\n",
        "from scipy.stats import entropy"
      ]
    },
    {
      "cell_type": "code",
      "execution_count": 5,
      "metadata": {
        "id": "NcPYMY_JauKv"
      },
      "outputs": [],
      "source": [
        "# Load the EEG data from .mat files\n",
        "healthy_data1 = loadmat('/content/H1.mat')\n",
        "healthy_data2 = loadmat('/content/H2.mat')\n",
        "healthy_data3 = loadmat('/content/H3.mat')\n",
        "\n",
        "schizophrenia_data1 = loadmat('/content/Sch1.mat')\n",
        "schizophrenia_data2 = loadmat('/content/Sch2.mat')\n",
        "schizophrenia_data3 = loadmat('/content/Sch3.mat')"
      ]
    },
    {
      "cell_type": "code",
      "execution_count": 6,
      "metadata": {
        "id": "e8lCY62Aao9v",
        "colab": {
          "base_uri": "https://localhost:8080/",
          "height": 1000
        },
        "outputId": "d1920701-b166-45f5-8eb4-00de23ad052a"
      },
      "outputs": [
        {
          "output_type": "stream",
          "name": "stdout",
          "text": [
            "Creating RawArray with float64 data, n_channels=19, n_times=231250\n",
            "    Range : 0 ... 231249 =      0.000 ...   924.996 secs\n",
            "Ready.\n",
            "Creating RawArray with float64 data, n_channels=19, n_times=227500\n",
            "    Range : 0 ... 227499 =      0.000 ...   909.996 secs\n",
            "Ready.\n",
            "Creating RawArray with float64 data, n_channels=19, n_times=227500\n",
            "    Range : 0 ... 227499 =      0.000 ...   909.996 secs\n",
            "Ready.\n",
            "Creating RawArray with float64 data, n_channels=19, n_times=211250\n",
            "    Range : 0 ... 211249 =      0.000 ...   844.996 secs\n",
            "Ready.\n",
            "Creating RawArray with float64 data, n_channels=19, n_times=286250\n",
            "    Range : 0 ... 286249 =      0.000 ...  1144.996 secs\n",
            "Ready.\n",
            "Creating RawArray with float64 data, n_channels=19, n_times=241000\n",
            "    Range : 0 ... 240999 =      0.000 ...   963.996 secs\n",
            "Ready.\n",
            "Filtering raw data in 3 contiguous segments\n",
            "Setting up band-pass filter from 1 - 50 Hz\n",
            "\n",
            "FIR filter parameters\n",
            "---------------------\n",
            "Designing a one-pass, zero-phase, non-causal bandpass filter:\n",
            "- Windowed time-domain design (firwin) method\n",
            "- Hamming window with 0.0194 passband ripple and 53 dB stopband attenuation\n",
            "- Lower passband edge: 1.00\n",
            "- Lower transition bandwidth: 1.00 Hz (-6 dB cutoff frequency: 0.50 Hz)\n",
            "- Upper passband edge: 50.00 Hz\n",
            "- Upper transition bandwidth: 12.50 Hz (-6 dB cutoff frequency: 56.25 Hz)\n",
            "- Filter length: 825 samples (3.300 s)\n",
            "\n"
          ]
        },
        {
          "output_type": "stream",
          "name": "stderr",
          "text": [
            "[Parallel(n_jobs=1)]: Done  17 tasks      | elapsed:    0.6s\n"
          ]
        },
        {
          "output_type": "stream",
          "name": "stdout",
          "text": [
            "Filtering raw data in 3 contiguous segments\n",
            "Setting up band-pass filter from 1 - 50 Hz\n",
            "\n",
            "FIR filter parameters\n",
            "---------------------\n",
            "Designing a one-pass, zero-phase, non-causal bandpass filter:\n",
            "- Windowed time-domain design (firwin) method\n",
            "- Hamming window with 0.0194 passband ripple and 53 dB stopband attenuation\n",
            "- Lower passband edge: 1.00\n",
            "- Lower transition bandwidth: 1.00 Hz (-6 dB cutoff frequency: 0.50 Hz)\n",
            "- Upper passband edge: 50.00 Hz\n",
            "- Upper transition bandwidth: 12.50 Hz (-6 dB cutoff frequency: 56.25 Hz)\n",
            "- Filter length: 825 samples (3.300 s)\n",
            "\n"
          ]
        },
        {
          "output_type": "stream",
          "name": "stderr",
          "text": [
            "[Parallel(n_jobs=1)]: Done  17 tasks      | elapsed:    0.8s\n"
          ]
        },
        {
          "output_type": "stream",
          "name": "stdout",
          "text": [
            "Filtering raw data in 3 contiguous segments\n",
            "Setting up band-stop filter from 49 - 51 Hz\n",
            "\n",
            "FIR filter parameters\n",
            "---------------------\n",
            "Designing a one-pass, zero-phase, non-causal bandstop filter:\n",
            "- Windowed time-domain design (firwin) method\n",
            "- Hamming window with 0.0194 passband ripple and 53 dB stopband attenuation\n",
            "- Lower passband edge: 49.38\n",
            "- Lower transition bandwidth: 0.50 Hz (-6 dB cutoff frequency: 49.12 Hz)\n",
            "- Upper passband edge: 50.62 Hz\n",
            "- Upper transition bandwidth: 0.50 Hz (-6 dB cutoff frequency: 50.88 Hz)\n",
            "- Filter length: 1651 samples (6.604 s)\n",
            "\n",
            "Setting up band-stop filter from 49 - 51 Hz\n",
            "\n",
            "FIR filter parameters\n",
            "---------------------\n",
            "Designing a one-pass, zero-phase, non-causal bandstop filter:\n",
            "- Windowed time-domain design (firwin) method\n",
            "- Hamming window with 0.0194 passband ripple and 53 dB stopband attenuation\n",
            "- Lower passband edge: 49.38\n",
            "- Lower transition bandwidth: 0.50 Hz (-6 dB cutoff frequency: 49.12 Hz)\n",
            "- Upper passband edge: 50.62 Hz\n",
            "- Upper transition bandwidth: 0.50 Hz (-6 dB cutoff frequency: 50.88 Hz)\n",
            "- Filter length: 1651 samples (6.604 s)\n",
            "\n"
          ]
        },
        {
          "output_type": "stream",
          "name": "stderr",
          "text": [
            "[Parallel(n_jobs=1)]: Done  17 tasks      | elapsed:    0.3s\n"
          ]
        },
        {
          "output_type": "stream",
          "name": "stdout",
          "text": [
            "Setting up band-stop filter from 49 - 51 Hz\n",
            "\n",
            "FIR filter parameters\n",
            "---------------------\n",
            "Designing a one-pass, zero-phase, non-causal bandstop filter:\n",
            "- Windowed time-domain design (firwin) method\n",
            "- Hamming window with 0.0194 passband ripple and 53 dB stopband attenuation\n",
            "- Lower passband edge: 49.38\n",
            "- Lower transition bandwidth: 0.50 Hz (-6 dB cutoff frequency: 49.12 Hz)\n",
            "- Upper passband edge: 50.62 Hz\n",
            "- Upper transition bandwidth: 0.50 Hz (-6 dB cutoff frequency: 50.88 Hz)\n",
            "- Filter length: 1651 samples (6.604 s)\n",
            "\n"
          ]
        },
        {
          "output_type": "stream",
          "name": "stderr",
          "text": [
            "[Parallel(n_jobs=1)]: Done  17 tasks      | elapsed:    0.4s\n"
          ]
        },
        {
          "output_type": "stream",
          "name": "stdout",
          "text": [
            "Filtering raw data in 3 contiguous segments\n",
            "Setting up band-stop filter from 49 - 51 Hz\n",
            "\n",
            "FIR filter parameters\n",
            "---------------------\n",
            "Designing a one-pass, zero-phase, non-causal bandstop filter:\n",
            "- Windowed time-domain design (firwin) method\n",
            "- Hamming window with 0.0194 passband ripple and 53 dB stopband attenuation\n",
            "- Lower passband edge: 49.38\n",
            "- Lower transition bandwidth: 0.50 Hz (-6 dB cutoff frequency: 49.12 Hz)\n",
            "- Upper passband edge: 50.62 Hz\n",
            "- Upper transition bandwidth: 0.50 Hz (-6 dB cutoff frequency: 50.88 Hz)\n",
            "- Filter length: 1651 samples (6.604 s)\n",
            "\n"
          ]
        },
        {
          "output_type": "stream",
          "name": "stderr",
          "text": [
            "[Parallel(n_jobs=1)]: Done  17 tasks      | elapsed:    0.3s\n"
          ]
        },
        {
          "output_type": "stream",
          "name": "stdout",
          "text": [
            "Setting up band-stop filter from 49 - 51 Hz\n",
            "\n",
            "FIR filter parameters\n",
            "---------------------\n",
            "Designing a one-pass, zero-phase, non-causal bandstop filter:\n",
            "- Windowed time-domain design (firwin) method\n",
            "- Hamming window with 0.0194 passband ripple and 53 dB stopband attenuation\n",
            "- Lower passband edge: 49.38\n",
            "- Lower transition bandwidth: 0.50 Hz (-6 dB cutoff frequency: 49.12 Hz)\n",
            "- Upper passband edge: 50.62 Hz\n",
            "- Upper transition bandwidth: 0.50 Hz (-6 dB cutoff frequency: 50.88 Hz)\n",
            "- Filter length: 1651 samples (6.604 s)\n",
            "\n"
          ]
        },
        {
          "output_type": "stream",
          "name": "stderr",
          "text": [
            "[Parallel(n_jobs=1)]: Done  17 tasks      | elapsed:    0.4s\n"
          ]
        },
        {
          "output_type": "stream",
          "name": "stdout",
          "text": [
            "Setting up band-stop filter from 49 - 51 Hz\n",
            "\n",
            "FIR filter parameters\n",
            "---------------------\n",
            "Designing a one-pass, zero-phase, non-causal bandstop filter:\n",
            "- Windowed time-domain design (firwin) method\n",
            "- Hamming window with 0.0194 passband ripple and 53 dB stopband attenuation\n",
            "- Lower passband edge: 49.38\n",
            "- Lower transition bandwidth: 0.50 Hz (-6 dB cutoff frequency: 49.12 Hz)\n",
            "- Upper passband edge: 50.62 Hz\n",
            "- Upper transition bandwidth: 0.50 Hz (-6 dB cutoff frequency: 50.88 Hz)\n",
            "- Filter length: 1651 samples (6.604 s)\n",
            "\n"
          ]
        },
        {
          "output_type": "stream",
          "name": "stderr",
          "text": [
            "[Parallel(n_jobs=1)]: Done  17 tasks      | elapsed:    0.4s\n",
            "[Parallel(n_jobs=1)]: Done  17 tasks      | elapsed:    0.3s\n"
          ]
        },
        {
          "output_type": "execute_result",
          "data": {
            "text/plain": [
              "<RawArray | 19 x 738500 (2954.0 s), ~107.1 MB, data loaded>"
            ],
            "text/html": [
              "<details open>\n",
              "    <summary><strong>General</strong></summary>\n",
              "    <table class=\"table table-hover table-striped table-sm table-responsive small\">\n",
              "        <tr>\n",
              "            <th>Measurement date</th>\n",
              "            \n",
              "            <td>Unknown</td>\n",
              "            \n",
              "        </tr>\n",
              "        <tr>\n",
              "            <th>Experimenter</th>\n",
              "            \n",
              "            <td>Unknown</td>\n",
              "            \n",
              "        </tr>\n",
              "        <tr>\n",
              "            <th>Participant</th>\n",
              "            \n",
              "            <td>Unknown</td>\n",
              "            \n",
              "        </tr>\n",
              "    </table>\n",
              "    </details>\n",
              "    <details open>\n",
              "        <summary><strong>Channels</strong></summary>\n",
              "        <table class=\"table table-hover table-striped table-sm table-responsive small\">\n",
              "            <tr>\n",
              "                <th>Digitized points</th>\n",
              "                \n",
              "                <td>Not available</td>\n",
              "                \n",
              "            </tr>\n",
              "            <tr>\n",
              "                <th>Good channels</th>\n",
              "                <td>19 EEG</td>\n",
              "            </tr>\n",
              "            <tr>\n",
              "                <th>Bad channels</th>\n",
              "                <td>None</td>\n",
              "            </tr>\n",
              "            <tr>\n",
              "                <th>EOG channels</th>\n",
              "                <td>Not available</td>\n",
              "            </tr>\n",
              "            <tr>\n",
              "                <th>ECG channels</th>\n",
              "                <td>Not available</td>\n",
              "            </tr>\n",
              "        </table>\n",
              "        </details>\n",
              "        <details open>\n",
              "            <summary><strong>Data</strong></summary>\n",
              "            <table class=\"table table-hover table-striped table-sm table-responsive small\">\n",
              "                \n",
              "                <tr>\n",
              "                    <th>Sampling frequency</th>\n",
              "                    <td>250.00 Hz</td>\n",
              "                </tr>\n",
              "                \n",
              "                \n",
              "                <tr>\n",
              "                    <th>Highpass</th>\n",
              "                    <td>1.00 Hz</td>\n",
              "                </tr>\n",
              "                \n",
              "                \n",
              "                <tr>\n",
              "                    <th>Lowpass</th>\n",
              "                    <td>50.00 Hz</td>\n",
              "                </tr>\n",
              "                \n",
              "                \n",
              "                \n",
              "                \n",
              "                <tr>\n",
              "                    <th>Duration</th>\n",
              "                    <td>00:49:14 (HH:MM:SS)</td>\n",
              "                </tr>\n",
              "                \n",
              "            </table>\n",
              "            </details>"
            ]
          },
          "metadata": {},
          "execution_count": 6
        }
      ],
      "source": [
        "# Create MNE Raw objects\n",
        "sfreq = 250\n",
        "CH_NUMBER = 19\n",
        "\n",
        "healthy_raw1 = mne.io.RawArray(healthy_data1.get('H1'), mne.create_info(CH_NUMBER, sfreq, ch_types='eeg'))\n",
        "healthy_raw2 = mne.io.RawArray(healthy_data2.get('H2'), mne.create_info(CH_NUMBER, sfreq, ch_types='eeg'))\n",
        "healthy_raw3 = mne.io.RawArray(healthy_data3.get('H3'), mne.create_info(CH_NUMBER, sfreq, ch_types='eeg'))\n",
        "\n",
        "schizophrenia_raw1 = mne.io.RawArray(schizophrenia_data1.get('Sch1'), mne.create_info(CH_NUMBER, sfreq, ch_types='eeg'))\n",
        "schizophrenia_raw2 = mne.io.RawArray(schizophrenia_data2.get('Sch2'), mne.create_info(CH_NUMBER, sfreq, ch_types='eeg'))\n",
        "schizophrenia_raw3 = mne.io.RawArray(schizophrenia_data3.get('Sch3'), mne.create_info(CH_NUMBER, sfreq, ch_types='eeg'))\n",
        "\n",
        "# Concatenate the datasets\n",
        "healthy_raw = mne.concatenate_raws([healthy_raw1, healthy_raw2, healthy_raw3])\n",
        "schizophrenia_raw = mne.concatenate_raws([schizophrenia_raw1, schizophrenia_raw2, schizophrenia_raw3])\n",
        "\n",
        "# Apply bandpass filter to remove high-frequency noise\n",
        "healthy_raw.filter(l_freq=1, h_freq=50)  # Adjust the frequency range as needed\n",
        "schizophrenia_raw.filter(l_freq=1, h_freq=50)\n",
        "\n",
        "# Remove power line interference (50 Hz)\n",
        "healthy_raw.notch_filter(freqs=50)\n",
        "schizophrenia_raw.notch_filter(freqs=50)\n"
      ]
    },
    {
      "cell_type": "markdown",
      "metadata": {
        "id": "JDLqBsSKb3JW"
      },
      "source": [
        "### Task 2 - Segment the data into 2 second"
      ]
    },
    {
      "cell_type": "code",
      "execution_count": 7,
      "metadata": {
        "id": "RWUVPlnGb87m",
        "colab": {
          "base_uri": "https://localhost:8080/"
        },
        "outputId": "18cfa96f-f1d6-4fbd-8500-cd64c3f4316c"
      },
      "outputs": [
        {
          "output_type": "stream",
          "name": "stdout",
          "text": [
            "Not setting metadata\n",
            "1372 matching events found\n",
            "No baseline correction applied\n",
            "0 projection items activated\n",
            "Not setting metadata\n",
            "1477 matching events found\n",
            "No baseline correction applied\n",
            "0 projection items activated\n"
          ]
        }
      ],
      "source": [
        "# Divide into 2-second segments\n",
        "duration = 2  # in seconds\n",
        "healthy_epochs = mne.make_fixed_length_epochs(healthy_raw, duration=duration)\n",
        "schizophrenia_epochs = mne.make_fixed_length_epochs(schizophrenia_raw, duration=duration)"
      ]
    },
    {
      "cell_type": "markdown",
      "metadata": {
        "id": "5DKSpTKBcBd-"
      },
      "source": [
        "### Task 3 - Extract\n",
        "- Mean\n",
        "- Standard derivation\n",
        "- total signal power\n",
        "- Alpha band power\n",
        "- Beta band power\n",
        "- theta band power\n",
        "- fourier series coefficients\n",
        "\n",
        "for each segment"
      ]
    },
    {
      "cell_type": "code",
      "execution_count": null,
      "metadata": {
        "id": "hFb8rRFlcMl6"
      },
      "outputs": [],
      "source": [
        "\n",
        "# Define frequency bands\n",
        "freq_bands = {'theta': (4, 8),\n",
        "              'alpha': (8, 13),\n",
        "              'beta': (13, 30)}\n",
        "\n",
        "# Function to calculate band power\n",
        "def calculate_band_power(data, sfreq, freq_band):\n",
        "    psd, freqs = mne.time_frequency.psd_array_welch(data, sfreq=sfreq, fmin=freq_band[0], fmax=freq_band[1])\n",
        "    return np.sum(psd, axis=-1)\n",
        "\n",
        "# Function to extract features from each segment\n",
        "def extract_features(epochs):\n",
        "    global sfreq\n",
        "    features = []\n",
        "\n",
        "    for epoch in epochs:\n",
        "        data = epoch  # Get the EEG data for the epoch\n",
        "        sfreq = sfreq\n",
        "\n",
        "        # Calculate mean and standard deviation\n",
        "        mean = np.mean(data, axis=-1, keepdims=True)\n",
        "        std = np.std(data, axis=-1, keepdims=True)\n",
        "\n",
        "        # Calculate total signal power\n",
        "        total_power = np.sum(data ** 2, axis=-1, keepdims=True)\n",
        "\n",
        "        # Calculate band powers\n",
        "        alpha_power = calculate_band_power(data, sfreq, freq_bands['alpha'])\n",
        "        beta_power = calculate_band_power(data, sfreq, freq_bands['beta'])\n",
        "        theta_power = calculate_band_power(data, sfreq, freq_bands['theta'])\n",
        "\n",
        "        # Flatten the band powers\n",
        "        alpha_power = alpha_power.reshape(alpha_power.shape[0], -1)\n",
        "        beta_power = beta_power.reshape(beta_power.shape[0], -1)\n",
        "        theta_power = theta_power.reshape(theta_power.shape[0], -1)\n",
        "\n",
        "        # Calculate Fourier series coefficients and flatten them\n",
        "        fourier_coeffs = np.abs(np.fft.fft(data, axis=-1)).reshape(data.shape[0], -1)\n",
        "\n",
        "        # Append features for the current segment\n",
        "        segment_features = np.concatenate([mean, std, total_power, alpha_power, beta_power, theta_power, fourier_coeffs], axis=-1)\n",
        "        features.append(segment_features)\n",
        "\n",
        "    return np.array(features)\n",
        "\n",
        "# Extract features for healthy and schizophrenia segments\n",
        "healthy_features = extract_features(healthy_epochs)\n",
        "schizophrenia_features = extract_features(schizophrenia_epochs)"
      ]
    },
    {
      "cell_type": "markdown",
      "metadata": {
        "id": "ikKH7NfBb42D"
      },
      "source": [
        "### Task 4 & 5\n",
        "- Extract features for Each channel\n",
        "- Implement feature matrix for both groups with Lable at the Last column"
      ]
    },
    {
      "cell_type": "code",
      "execution_count": 18,
      "metadata": {
        "id": "V4FOhFFzisdU",
        "colab": {
          "base_uri": "https://localhost:8080/"
        },
        "outputId": "f91bde87-b5b8-4e59-9241-13f0af9ba5de"
      },
      "outputs": [
        {
          "output_type": "stream",
          "name": "stdout",
          "text": [
            "Using data from preloaded Raw for 1370 events and 500 original time points ...\n",
            "Using data from preloaded Raw for 1370 events and 500 original time points ...\n",
            "Using data from preloaded Raw for 1476 events and 500 original time points ...\n",
            "Using data from preloaded Raw for 1370 events and 500 original time points ...\n",
            "Using data from preloaded Raw for 1476 events and 500 original time points ...\n",
            "[[0.07490936 0.08161659 0.0838972  ... 0.         0.         0.        ]\n",
            " [0.61540282 0.63708135 0.47737946 ... 0.         0.         0.        ]\n",
            " [0.84287848 0.67515738 0.36791675 ... 0.         0.         0.        ]\n",
            " ...\n",
            " [0.41837882 0.41587118 0.42974906 ... 0.         0.         0.        ]\n",
            " [0.9691906  0.949022   0.85419696 ... 0.         0.         0.        ]\n",
            " [0.03193523 0.03235249 0.03911279 ... 0.         0.         0.        ]]\n"
          ]
        }
      ],
      "source": [
        "# Initialize parameters\n",
        "WINDOW_SIZE = 100\n",
        "OVERLAP = 0\n",
        "\n",
        "# Create an array to store the labels (0 for healthy, 1 for schizophrenia)\n",
        "num_channels = healthy_epochs.get_data().shape[1]\n",
        "healthy_labels = np.zeros((len(healthy_epochs), 1, 1))\n",
        "schizophrenia_labels = np.ones((len(schizophrenia_epochs), 1, 1))\n",
        "\n",
        "# Ensure the shape of labels matches the number of epochs\n",
        "healthy_labels_broadcasted = np.tile(healthy_labels, (1, num_channels, healthy_epochs.get_data().shape[2]))\n",
        "schizophrenia_labels_broadcasted = np.tile(schizophrenia_labels, (1, num_channels, schizophrenia_epochs.get_data().shape[2]))\n",
        "\n",
        "# Concatenate the data and labels along the last dimension\n",
        "healthy_data_with_labels = np.concatenate([healthy_epochs.get_data(), healthy_labels_broadcasted], axis=-1)\n",
        "schizophrenia_data_with_labels = np.concatenate([schizophrenia_epochs.get_data(), schizophrenia_labels_broadcasted], axis=-1)\n",
        "\n",
        "# Concatenate the data from both groups along the first axis\n",
        "all_data = np.concatenate([healthy_data_with_labels, schizophrenia_data_with_labels], axis=0)\n",
        "\n",
        "# Create an array to store labels\n",
        "labels = np.concatenate([np.zeros(len(healthy_epochs)), np.ones(len(schizophrenia_epochs))])\n",
        "\n",
        "# Define frequency bands for PSD\n",
        "freq_bands = {'alpha': [8, 13], 'beta': [13, 30], 'theta': [4, 8]}\n",
        "\n",
        "# Create an array to store t-test results\n",
        "t_test_results = np.zeros((num_channels, 5, len(freq_bands), all_data.shape[2] - 1))  # 5 features, 3 frequency bands, excluding the label column\n",
        "\n",
        "# Iterate over channels\n",
        "for channel in range(num_channels):\n",
        "    # Iterate over features\n",
        "    for feature in range(all_data.shape[2] - 1):  # Exclude the label column\n",
        "        # Extract data for the current channel and feature\n",
        "        healthy_channel_feature_data = all_data[:len(healthy_epochs), channel, feature]\n",
        "        schizophrenia_channel_feature_data = all_data[len(healthy_epochs):, channel, feature]\n",
        "\n",
        "        # 1. Time-domain Amplitudes\n",
        "        _, t_test_results[channel, 0, :, feature] = ttest_ind(healthy_channel_feature_data, schizophrenia_channel_feature_data, axis=0, equal_var=False)\n",
        "\n",
        "        # 2. Power Spectral Density (PSD)\n",
        "        _, psd_healthy = welch(healthy_channel_feature_data, fs=sfreq)\n",
        "        _, psd_schizophrenia = welch(schizophrenia_channel_feature_data, fs=sfreq)\n",
        "\n",
        "        for i, (band, freq_range) in enumerate(freq_bands.items()):\n",
        "            _, t_test_results[channel, 1, i, feature] = ttest_ind(np.sum(psd_healthy[freq_range[0]:freq_range[1]]), np.sum(psd_schizophrenia[freq_range[0]:freq_range[1]]), equal_var=False)\n",
        "\n",
        "        # 3. Spectral Entropy\n",
        "        entropy_healthy = entropy(healthy_channel_feature_data.T)\n",
        "        entropy_schizophrenia = entropy(schizophrenia_channel_feature_data.T)\n",
        "\n",
        "        # Check for NaN or infinite values and replace them with a default value (e.g., 0)\n",
        "        entropy_healthy = np.nan_to_num(entropy_healthy, nan=0, posinf=0, neginf=0)\n",
        "        entropy_schizophrenia = np.nan_to_num(entropy_schizophrenia, nan=0, posinf=0, neginf=0)\n",
        "\n",
        "        t_test_results[channel, 2, 0, feature] = entropy_healthy - entropy_schizophrenia\n",
        "\n",
        "\n",
        "# Create a features matrix for each channel in each epoch\n",
        "features_matrices = t_test_results.reshape((num_channels, -1))\n",
        "\n",
        "# Print or use features_matrices for further analysis"
      ]
    },
    {
      "cell_type": "code",
      "source": [
        "# Reshape the array for easy indexing\n",
        "reshaped_results = t_test_results.reshape((num_channels, -1))\n",
        "\n",
        "# Create a list to store column names\n",
        "columns = []\n",
        "\n",
        "# Iterate over channels, features, and frequency bands to create column names\n",
        "for channel in range(num_channels):\n",
        "    for feature in range(reshaped_results.shape[1]):\n",
        "        for band in range(len(freq_bands)):\n",
        "            columns.append(f\"Channel_{channel}_Feature_{feature}_Band_{band}\")\n",
        "\n",
        "# Determine the number of epochs for each condition\n",
        "num_epochs_healthy = len(healthy_epochs)\n",
        "num_epochs_schizophrenia = len(schizophrenia_epochs)\n",
        "\n",
        "# Create a DataFrame with reshaped_results and columns\n",
        "df = pd.DataFrame(reshaped_results.reshape((num_channels, -1)), columns=columns)\n",
        "\n",
        "# Add a label column with proper indexing for different epoch counts\n",
        "df['Label'] = np.concatenate([np.zeros(num_epochs_healthy), np.ones(num_epochs_schizophrenia)])\n",
        "\n",
        "# Print or use the DataFrame for further analysis\n",
        "print(df)\n"
      ],
      "metadata": {
        "colab": {
          "base_uri": "https://localhost:8080/",
          "height": 408
        },
        "id": "EXa-1nqargtM",
        "outputId": "6e1dd3eb-e25c-4595-875b-8da6cdd462a6"
      },
      "execution_count": 20,
      "outputs": [
        {
          "output_type": "error",
          "ename": "ValueError",
          "evalue": "ignored",
          "traceback": [
            "\u001b[0;31m---------------------------------------------------------------------------\u001b[0m",
            "\u001b[0;31mValueError\u001b[0m                                Traceback (most recent call last)",
            "\u001b[0;32m<ipython-input-20-bceabee18292>\u001b[0m in \u001b[0;36m<cell line: 18>\u001b[0;34m()\u001b[0m\n\u001b[1;32m     16\u001b[0m \u001b[0;34m\u001b[0m\u001b[0m\n\u001b[1;32m     17\u001b[0m \u001b[0;31m# Create a DataFrame with reshaped_results and columns\u001b[0m\u001b[0;34m\u001b[0m\u001b[0;34m\u001b[0m\u001b[0m\n\u001b[0;32m---> 18\u001b[0;31m \u001b[0mdf\u001b[0m \u001b[0;34m=\u001b[0m \u001b[0mpd\u001b[0m\u001b[0;34m.\u001b[0m\u001b[0mDataFrame\u001b[0m\u001b[0;34m(\u001b[0m\u001b[0mreshaped_results\u001b[0m\u001b[0;34m.\u001b[0m\u001b[0mreshape\u001b[0m\u001b[0;34m(\u001b[0m\u001b[0;34m(\u001b[0m\u001b[0mnum_channels\u001b[0m\u001b[0;34m,\u001b[0m \u001b[0;34m-\u001b[0m\u001b[0;36m1\u001b[0m\u001b[0;34m)\u001b[0m\u001b[0;34m)\u001b[0m\u001b[0;34m,\u001b[0m \u001b[0mcolumns\u001b[0m\u001b[0;34m=\u001b[0m\u001b[0mcolumns\u001b[0m\u001b[0;34m)\u001b[0m\u001b[0;34m\u001b[0m\u001b[0;34m\u001b[0m\u001b[0m\n\u001b[0m\u001b[1;32m     19\u001b[0m \u001b[0;34m\u001b[0m\u001b[0m\n\u001b[1;32m     20\u001b[0m \u001b[0;31m# Add a label column with proper indexing for different epoch counts\u001b[0m\u001b[0;34m\u001b[0m\u001b[0;34m\u001b[0m\u001b[0m\n",
            "\u001b[0;32m/usr/local/lib/python3.10/dist-packages/pandas/core/frame.py\u001b[0m in \u001b[0;36m__init__\u001b[0;34m(self, data, index, columns, dtype, copy)\u001b[0m\n\u001b[1;32m    720\u001b[0m                 )\n\u001b[1;32m    721\u001b[0m             \u001b[0;32melse\u001b[0m\u001b[0;34m:\u001b[0m\u001b[0;34m\u001b[0m\u001b[0;34m\u001b[0m\u001b[0m\n\u001b[0;32m--> 722\u001b[0;31m                 mgr = ndarray_to_mgr(\n\u001b[0m\u001b[1;32m    723\u001b[0m                     \u001b[0mdata\u001b[0m\u001b[0;34m,\u001b[0m\u001b[0;34m\u001b[0m\u001b[0;34m\u001b[0m\u001b[0m\n\u001b[1;32m    724\u001b[0m                     \u001b[0mindex\u001b[0m\u001b[0;34m,\u001b[0m\u001b[0;34m\u001b[0m\u001b[0;34m\u001b[0m\u001b[0m\n",
            "\u001b[0;32m/usr/local/lib/python3.10/dist-packages/pandas/core/internals/construction.py\u001b[0m in \u001b[0;36mndarray_to_mgr\u001b[0;34m(values, index, columns, dtype, copy, typ)\u001b[0m\n\u001b[1;32m    347\u001b[0m     )\n\u001b[1;32m    348\u001b[0m \u001b[0;34m\u001b[0m\u001b[0m\n\u001b[0;32m--> 349\u001b[0;31m     \u001b[0m_check_values_indices_shape_match\u001b[0m\u001b[0;34m(\u001b[0m\u001b[0mvalues\u001b[0m\u001b[0;34m,\u001b[0m \u001b[0mindex\u001b[0m\u001b[0;34m,\u001b[0m \u001b[0mcolumns\u001b[0m\u001b[0;34m)\u001b[0m\u001b[0;34m\u001b[0m\u001b[0;34m\u001b[0m\u001b[0m\n\u001b[0m\u001b[1;32m    350\u001b[0m \u001b[0;34m\u001b[0m\u001b[0m\n\u001b[1;32m    351\u001b[0m     \u001b[0;32mif\u001b[0m \u001b[0mtyp\u001b[0m \u001b[0;34m==\u001b[0m \u001b[0;34m\"array\"\u001b[0m\u001b[0;34m:\u001b[0m\u001b[0;34m\u001b[0m\u001b[0;34m\u001b[0m\u001b[0m\n",
            "\u001b[0;32m/usr/local/lib/python3.10/dist-packages/pandas/core/internals/construction.py\u001b[0m in \u001b[0;36m_check_values_indices_shape_match\u001b[0;34m(values, index, columns)\u001b[0m\n\u001b[1;32m    418\u001b[0m         \u001b[0mpassed\u001b[0m \u001b[0;34m=\u001b[0m \u001b[0mvalues\u001b[0m\u001b[0;34m.\u001b[0m\u001b[0mshape\u001b[0m\u001b[0;34m\u001b[0m\u001b[0;34m\u001b[0m\u001b[0m\n\u001b[1;32m    419\u001b[0m         \u001b[0mimplied\u001b[0m \u001b[0;34m=\u001b[0m \u001b[0;34m(\u001b[0m\u001b[0mlen\u001b[0m\u001b[0;34m(\u001b[0m\u001b[0mindex\u001b[0m\u001b[0;34m)\u001b[0m\u001b[0;34m,\u001b[0m \u001b[0mlen\u001b[0m\u001b[0;34m(\u001b[0m\u001b[0mcolumns\u001b[0m\u001b[0;34m)\u001b[0m\u001b[0;34m)\u001b[0m\u001b[0;34m\u001b[0m\u001b[0;34m\u001b[0m\u001b[0m\n\u001b[0;32m--> 420\u001b[0;31m         \u001b[0;32mraise\u001b[0m \u001b[0mValueError\u001b[0m\u001b[0;34m(\u001b[0m\u001b[0;34mf\"Shape of passed values is {passed}, indices imply {implied}\"\u001b[0m\u001b[0;34m)\u001b[0m\u001b[0;34m\u001b[0m\u001b[0;34m\u001b[0m\u001b[0m\n\u001b[0m\u001b[1;32m    421\u001b[0m \u001b[0;34m\u001b[0m\u001b[0m\n\u001b[1;32m    422\u001b[0m \u001b[0;34m\u001b[0m\u001b[0m\n",
            "\u001b[0;31mValueError\u001b[0m: Shape of passed values is (19, 14985), indices imply (19, 854145)"
          ]
        }
      ]
    }
  ],
  "metadata": {
    "colab": {
      "provenance": []
    },
    "kernelspec": {
      "display_name": "Python 3",
      "name": "python3"
    },
    "language_info": {
      "name": "python"
    }
  },
  "nbformat": 4,
  "nbformat_minor": 0
}