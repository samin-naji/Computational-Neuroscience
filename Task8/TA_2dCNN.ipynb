{
  "cells": [
    {
      "cell_type": "code",
      "execution_count": null,
      "metadata": {
        "colab": {
          "base_uri": "https://localhost:8080/"
        },
        "id": "rNT7TE6zSI2h",
        "outputId": "5c0c9ec8-3fe9-4692-9c6a-cb4ee078ea56"
      },
      "outputs": [],
      "source": [
        "from google.colab import drive\n",
        "drive.mount('/content/drive')"
      ]
    },
    {
      "cell_type": "code",
      "execution_count": 7,
      "metadata": {
        "id": "cGYvzGcOTgjb"
      },
      "outputs": [],
      "source": [
        "import os\n",
        "from PIL import Image\n",
        "import os\n",
        "from PIL import Image\n",
        "import matplotlib.pyplot as plt\n"
      ]
    },
    {
      "cell_type": "code",
      "execution_count": 5,
      "metadata": {
        "id": "yvQhUgmCYAXK"
      },
      "outputs": [],
      "source": [
        "import numpy as np"
      ]
    },
    {
      "cell_type": "code",
      "execution_count": null,
      "metadata": {
        "id": "ViVsLoSoZVAm"
      },
      "outputs": [],
      "source": [
        "import torch\n",
        "import torchvision.transforms as transforms\n",
        "from torchvision.datasets import ImageFolder\n",
        "from torch.utils.data import DataLoader\n"
      ]
    },
    {
      "cell_type": "code",
      "execution_count": 3,
      "metadata": {
        "id": "JklPs4MGcj2d"
      },
      "outputs": [],
      "source": [
        "\n",
        "import torch\n",
        "import torch.nn as nn\n",
        "import torch.optim as optim\n",
        "import torchvision.transforms as transforms\n",
        "from torchvision.datasets import ImageFolder\n",
        "from torch.utils.data import DataLoader, random_split\n",
        "from torch.utils.tensorboard import SummaryWriter\n",
        "from sklearn.metrics import accuracy_score"
      ]
    },
    {
      "cell_type": "code",
      "execution_count": 4,
      "metadata": {
        "id": "vDt_LHX_-YBI"
      },
      "outputs": [],
      "source": [
        "import os\n",
        "import random\n",
        "import glob\n",
        "import torch\n",
        "from torchvision import datasets, transforms\n",
        "from PIL import Image"
      ]
    },
    {
      "cell_type": "code",
      "execution_count": null,
      "metadata": {
        "id": "Qi-tvdWpYH6Q"
      },
      "outputs": [],
      "source": []
    },
    {
      "cell_type": "markdown",
      "metadata": {
        "id": "DVSSXV3AYMjs"
      },
      "source": [
        "# Read the data"
      ]
    },
    {
      "cell_type": "code",
      "execution_count": null,
      "metadata": {
        "id": "YAkqZXDea9F8"
      },
      "outputs": [],
      "source": [
        "\n",
        "# Path to the folder containing the images\n",
        "folder_path = '/content/drive/MyDrive/Ali/Data/Healthy'\n",
        "\n",
        "# Get the list of files in the folder\n",
        "files = os.listdir(folder_path)"
      ]
    },
    {
      "cell_type": "code",
      "execution_count": null,
      "metadata": {
        "colab": {
          "base_uri": "https://localhost:8080/"
        },
        "id": "ca_ml0ypa9D7",
        "outputId": "ca865032-3a06-4e3d-e742-64271b7f726d"
      },
      "outputs": [
        {
          "data": {
            "text/plain": [
              "['Spectrogram_Subject_3_Signal_616.png',\n",
              " 'Spectrogram_Subject_3_Signal_606.png',\n",
              " 'Spectrogram_Subject_3_Signal_604.png',\n",
              " 'Spectrogram_Subject_3_Signal_607.png',\n",
              " 'Spectrogram_Subject_3_Signal_600.png',\n",
              " 'Spectrogram_Subject_3_Signal_614.png',\n",
              " 'Spectrogram_Subject_3_Signal_603.png',\n",
              " 'Spectrogram_Subject_3_Signal_615.png',\n",
              " 'Spectrogram_Subject_3_Signal_602.png',\n",
              " 'Spectrogram_Subject_3_Signal_610.png',\n",
              " 'Spectrogram_Subject_3_Signal_609.png',\n",
              " 'Spectrogram_Subject_3_Signal_608.png',\n",
              " 'Spectrogram_Subject_3_Signal_617.png',\n",
              " 'Spectrogram_Subject_3_Signal_605.png',\n",
              " 'Spectrogram_Subject_3_Signal_611.png',\n",
              " 'Spectrogram_Subject_3_Signal_613.png',\n",
              " 'Spectrogram_Subject_3_Signal_601.png',\n",
              " 'Spectrogram_Subject_3_Signal_612.png',\n",
              " 'Spectrogram_Subject_3_Signal_625.png',\n",
              " 'Spectrogram_Subject_3_Signal_638.png',\n",
              " 'Spectrogram_Subject_3_Signal_632.png',\n",
              " 'Spectrogram_Subject_3_Signal_629.png',\n",
              " 'Spectrogram_Subject_3_Signal_630.png',\n",
              " 'Spectrogram_Subject_3_Signal_634.png',\n",
              " 'Spectrogram_Subject_3_Signal_641.png',\n",
              " 'Spectrogram_Subject_3_Signal_620.png',\n",
              " 'Spectrogram_Subject_3_Signal_661.png',\n",
              " 'Spectrogram_Subject_3_Signal_645.png',\n",
              " 'Spectrogram_Subject_3_Signal_651.png',\n",
              " 'Spectrogram_Subject_3_Signal_650.png',\n",
              " 'Spectrogram_Subject_3_Signal_635.png',\n",
              " 'Spectrogram_Subject_3_Signal_647.png',\n",
              " 'Spectrogram_Subject_3_Signal_648.png',\n",
              " 'Spectrogram_Subject_3_Signal_649.png',\n",
              " 'Spectrogram_Subject_3_Signal_657.png',\n",
              " 'Spectrogram_Subject_3_Signal_655.png',\n",
              " 'Spectrogram_Subject_3_Signal_659.png',\n",
              " 'Spectrogram_Subject_3_Signal_652.png',\n",
              " 'Spectrogram_Subject_3_Signal_631.png',\n",
              " 'Spectrogram_Subject_3_Signal_628.png',\n",
              " 'Spectrogram_Subject_3_Signal_653.png',\n",
              " 'Spectrogram_Subject_3_Signal_619.png',\n",
              " 'Spectrogram_Subject_3_Signal_642.png',\n",
              " 'Spectrogram_Subject_3_Signal_643.png',\n",
              " 'Spectrogram_Subject_3_Signal_618.png',\n",
              " 'Spectrogram_Subject_3_Signal_621.png',\n",
              " 'Spectrogram_Subject_3_Signal_646.png',\n",
              " 'Spectrogram_Subject_3_Signal_627.png',\n",
              " 'Spectrogram_Subject_3_Signal_636.png',\n",
              " 'Spectrogram_Subject_3_Signal_637.png',\n",
              " 'Spectrogram_Subject_3_Signal_624.png',\n",
              " 'Spectrogram_Subject_3_Signal_644.png',\n",
              " 'Spectrogram_Subject_3_Signal_623.png',\n",
              " 'Spectrogram_Subject_3_Signal_633.png',\n",
              " 'Spectrogram_Subject_3_Signal_626.png',\n",
              " 'Spectrogram_Subject_3_Signal_640.png',\n",
              " 'Spectrogram_Subject_3_Signal_660.png',\n",
              " 'Spectrogram_Subject_3_Signal_639.png',\n",
              " 'Spectrogram_Subject_3_Signal_622.png',\n",
              " 'Spectrogram_Subject_3_Signal_656.png',\n",
              " 'Spectrogram_Subject_3_Signal_654.png',\n",
              " 'Spectrogram_Subject_3_Signal_658.png',\n",
              " 'Spectrogram_Subject_3_Signal_672.png',\n",
              " 'Spectrogram_Subject_3_Signal_666.png',\n",
              " 'Spectrogram_Subject_3_Signal_677.png',\n",
              " 'Spectrogram_Subject_3_Signal_682.png',\n",
              " 'Spectrogram_Subject_3_Signal_698.png',\n",
              " 'Spectrogram_Subject_3_Signal_691.png',\n",
              " 'Spectrogram_Subject_3_Signal_690.png',\n",
              " 'Spectrogram_Subject_3_Signal_683.png',\n",
              " 'Spectrogram_Subject_3_Signal_693.png',\n",
              " 'Spectrogram_Subject_3_Signal_689.png',\n",
              " 'Spectrogram_Subject_3_Signal_669.png',\n",
              " 'Spectrogram_Subject_3_Signal_676.png',\n",
              " 'Spectrogram_Subject_3_Signal_692.png',\n",
              " 'Spectrogram_Subject_3_Signal_694.png',\n",
              " 'Spectrogram_Subject_3_Signal_664.png',\n",
              " 'Spectrogram_Subject_3_Signal_663.png',\n",
              " 'Spectrogram_Subject_3_Signal_697.png',\n",
              " 'Spectrogram_Subject_3_Signal_671.png',\n",
              " 'Spectrogram_Subject_3_Signal_699.png',\n",
              " 'Spectrogram_Subject_3_Signal_673.png',\n",
              " 'Spectrogram_Subject_3_Signal_675.png',\n",
              " 'Spectrogram_Subject_3_Signal_680.png',\n",
              " 'Spectrogram_Subject_3_Signal_670.png',\n",
              " 'Spectrogram_Subject_3_Signal_665.png',\n",
              " 'Spectrogram_Subject_3_Signal_685.png',\n",
              " 'Spectrogram_Subject_3_Signal_695.png',\n",
              " 'Spectrogram_Subject_3_Signal_696.png',\n",
              " 'Spectrogram_Subject_3_Signal_662.png',\n",
              " 'Spectrogram_Subject_3_Signal_668.png',\n",
              " 'Spectrogram_Subject_3_Signal_678.png',\n",
              " 'Spectrogram_Subject_3_Signal_667.png',\n",
              " 'Spectrogram_Subject_3_Signal_687.png',\n",
              " 'Spectrogram_Subject_3_Signal_684.png',\n",
              " 'Spectrogram_Subject_3_Signal_686.png',\n",
              " 'Spectrogram_Subject_3_Signal_688.png',\n",
              " 'Spectrogram_Subject_3_Signal_674.png',\n",
              " 'Spectrogram_Subject_3_Signal_681.png',\n",
              " 'Spectrogram_Subject_3_Signal_679.png']"
            ]
          },
          "execution_count": 8,
          "metadata": {},
          "output_type": "execute_result"
        }
      ],
      "source": [
        "files"
      ]
    },
    {
      "cell_type": "code",
      "execution_count": null,
      "metadata": {
        "id": "gMtJflw3a9BT"
      },
      "outputs": [],
      "source": [
        "\n",
        "# Take the first two images\n",
        "first_image_path = os.path.join(folder_path, files[0])\n",
        "second_image_path = os.path.join(folder_path, files[1])\n"
      ]
    },
    {
      "cell_type": "code",
      "execution_count": null,
      "metadata": {
        "colab": {
          "base_uri": "https://localhost:8080/",
          "height": 35
        },
        "id": "6g3hx2GAbGQ6",
        "outputId": "6879b19e-6abb-4e82-b674-53deac1ccc44"
      },
      "outputs": [
        {
          "data": {
            "application/vnd.google.colaboratory.intrinsic+json": {
              "type": "string"
            },
            "text/plain": [
              "'/content/drive/MyDrive/Ali/Data/Healthy/Spectrogram_Subject_3_Signal_616.png'"
            ]
          },
          "execution_count": 10,
          "metadata": {},
          "output_type": "execute_result"
        }
      ],
      "source": [
        "first_image_path"
      ]
    },
    {
      "cell_type": "code",
      "execution_count": null,
      "metadata": {
        "id": "ZWg7bLQ5bKQr"
      },
      "outputs": [],
      "source": [
        "\n",
        "# Load the images using PIL\n",
        "first_image = Image.open(first_image_path)\n",
        "second_image = Image.open(second_image_path)"
      ]
    },
    {
      "cell_type": "code",
      "execution_count": null,
      "metadata": {
        "colab": {
          "base_uri": "https://localhost:8080/",
          "height": 467
        },
        "id": "rhvC1ZKvbLmT",
        "outputId": "2b71b304-9be2-49d0-8cf6-7f490e3bd8c9"
      },
      "outputs": [
        {
          "data": {
            "image/png": "[encoded data removed]",
            "text/plain": [
              "<PIL.PngImagePlugin.PngImageFile image mode=RGBA size=650x450>"
            ]
          },
          "execution_count": 12,
          "metadata": {},
          "output_type": "execute_result"
        }
      ],
      "source": [
        "first_image"
      ]
    },
    {
      "cell_type": "code",
      "execution_count": null,
      "metadata": {
        "colab": {
          "base_uri": "https://localhost:8080/",
          "height": 278
        },
        "id": "IIKI7XoIar79",
        "outputId": "9d47941b-8391-4532-f9a9-996c1b7999d0"
      },
      "outputs": [
        {
          "data": {
            "image/png": "[encoded data removed]",
            "text/plain": [
              "<Figure size 800x400 with 2 Axes>"
            ]
          },
          "metadata": {},
          "output_type": "display_data"
        }
      ],
      "source": [
        "\n",
        "\n",
        "\n",
        "# Plot the images using Matplotlib\n",
        "plt.figure(figsize=(8, 4))\n",
        "\n",
        "# Plot the first image\n",
        "plt.subplot(1, 2, 1)\n",
        "plt.imshow(first_image)\n",
        "plt.title('First Image')\n",
        "\n",
        "# Plot the second image\n",
        "plt.subplot(1, 2, 2)\n",
        "plt.imshow(second_image)\n",
        "plt.title('Second Image')\n",
        "\n",
        "# Show the plots\n",
        "plt.show()\n"
      ]
    },
    {
      "cell_type": "code",
      "execution_count": null,
      "metadata": {
        "id": "Pes9BHqyar5z"
      },
      "outputs": [],
      "source": [
        "image_shape = first_image.size\n"
      ]
    },
    {
      "cell_type": "code",
      "execution_count": null,
      "metadata": {
        "colab": {
          "base_uri": "https://localhost:8080/"
        },
        "id": "hl9TM4Trar3q",
        "outputId": "04d50bc0-f2da-43d9-b3fe-b77da8c76b44"
      },
      "outputs": [
        {
          "data": {
            "text/plain": [
              "(650, 450)"
            ]
          },
          "execution_count": 15,
          "metadata": {},
          "output_type": "execute_result"
        }
      ],
      "source": [
        "image_shape"
      ]
    },
    {
      "cell_type": "code",
      "execution_count": null,
      "metadata": {
        "id": "kJbJNawZar1p"
      },
      "outputs": [],
      "source": [
        "first_image_array = np.array(first_image)\n"
      ]
    },
    {
      "cell_type": "code",
      "execution_count": null,
      "metadata": {
        "colab": {
          "base_uri": "https://localhost:8080/"
        },
        "id": "qyyd0zMUarzd",
        "outputId": "b0343980-218d-4a4a-e063-2b404b752212"
      },
      "outputs": [
        {
          "data": {
            "text/plain": [
              "(450, 650, 4)"
            ]
          },
          "execution_count": 17,
          "metadata": {},
          "output_type": "execute_result"
        }
      ],
      "source": [
        "first_image_array.shape"
      ]
    },
    {
      "cell_type": "code",
      "execution_count": null,
      "metadata": {
        "id": "0w2E2pu7arxb"
      },
      "outputs": [],
      "source": []
    },
    {
      "cell_type": "markdown",
      "metadata": {
        "id": "Rfx1EZdGclJb"
      },
      "source": [
        "# Dataloader"
      ]
    },
    {
      "cell_type": "code",
      "execution_count": null,
      "metadata": {
        "id": "7trkX4sOcqD7"
      },
      "outputs": [],
      "source": [
        "import os\n",
        "from torchvision import transforms\n",
        "from torch.utils.data import DataLoader, Dataset\n",
        "from PIL import Image\n",
        "\n",
        "# Define the path to your data folders\n",
        "healthy_folder = '/content/drive/MyDrive/Ali/Data/Healthy'\n",
        "bipolar_folder = '/content/drive/MyDrive/Ali/Data/Bipolar'\n",
        "\n",
        "# Define the trans\n"
      ]
    },
    {
      "cell_type": "code",
      "execution_count": null,
      "metadata": {
        "id": "N_xJ_wuP0v8e"
      },
      "outputs": [],
      "source": [
        "transform = transforms.Compose([\n",
        "    transforms.Grayscale(num_output_channels=3),  # Convert to 3-channel grayscale\n",
        "\n",
        "    transforms.Resize((256, 256)),  # Resize the image\n",
        "    transforms.ToTensor()  # Convert the image to a PyTorch tensor\n",
        "])"
      ]
    },
    {
      "cell_type": "code",
      "execution_count": null,
      "metadata": {
        "id": "D24xCIJnctXL"
      },
      "outputs": [],
      "source": [
        "\n",
        "# Define a custom dataset class\n",
        "class CustomDataset(Dataset):\n",
        "    def __init__(self, folder_path, transform=None):\n",
        "        self.folder_path = folder_path\n",
        "        self.transform = transform\n",
        "        self.file_list = os.listdir(folder_path)\n",
        "\n",
        "    def __len__(self):\n",
        "        return len(self.file_list)\n",
        "\n",
        "    def __getitem__(self, idx):\n",
        "        img_name = os.path.join(self.folder_path, self.file_list[idx])\n",
        "        image = Image.open(img_name)\n",
        "\n",
        "        if self.transform:\n",
        "            image = self.transform(image)\n",
        "\n",
        "        # Assuming label 0 for 'Healthy' and label 1 for 'Bipolar'\n",
        "        label = 0 if 'Healthy' in self.folder_path else 1\n",
        "\n",
        "        return image, label"
      ]
    },
    {
      "cell_type": "code",
      "execution_count": null,
      "metadata": {
        "id": "J5ymwv-tczoq"
      },
      "outputs": [],
      "source": [
        "\n",
        "\n",
        "# Create datasets for the healthy and bipolar folders\n",
        "healthy_dataset = CustomDataset(healthy_folder, transform=transform)\n",
        "bipolar_dataset = CustomDataset(bipolar_folder, transform=transform)\n"
      ]
    },
    {
      "cell_type": "code",
      "execution_count": null,
      "metadata": {
        "colab": {
          "base_uri": "https://localhost:8080/"
        },
        "id": "XGCiD8vgc0-S",
        "outputId": "7b5ede76-3e91-4428-d725-2eac5a7c7022"
      },
      "outputs": [
        {
          "data": {
            "text/plain": [
              "<__main__.CustomDataset at 0x7eb88cd78bb0>"
            ]
          },
          "execution_count": 22,
          "metadata": {},
          "output_type": "execute_result"
        }
      ],
      "source": [
        "healthy_dataset"
      ]
    },
    {
      "cell_type": "code",
      "execution_count": null,
      "metadata": {
        "colab": {
          "base_uri": "https://localhost:8080/"
        },
        "id": "KMna0Yi9c4fh",
        "outputId": "38f1c413-7a6d-48c9-ad05-77abd7088f37"
      },
      "outputs": [
        {
          "name": "stdout",
          "output_type": "stream",
          "text": [
            "Image shape: torch.Size([3, 256, 256]), Label: 0\n"
          ]
        }
      ],
      "source": [
        "# Access the first element in the dataset\n",
        "sample_image, sample_label = healthy_dataset[0]\n",
        "print(f\"Image shape: {sample_image.shape}, Label: {sample_label}\")\n"
      ]
    },
    {
      "cell_type": "code",
      "execution_count": null,
      "metadata": {
        "colab": {
          "base_uri": "https://localhost:8080/"
        },
        "id": "29ytvgx82Syu",
        "outputId": "ace3a642-d79b-4b84-c461-0b47234840fb"
      },
      "outputs": [
        {
          "name": "stdout",
          "output_type": "stream",
          "text": [
            "Image shape: torch.Size([3, 256, 256]), Label: 1\n"
          ]
        }
      ],
      "source": [
        "# Access the first element in the dataset\n",
        "sample_image, sample_label = bipolar_dataset[0]\n",
        "print(f\"Image shape: {sample_image.shape}, Label: {sample_label}\")\n"
      ]
    },
    {
      "cell_type": "code",
      "execution_count": null,
      "metadata": {
        "id": "3zTrJ-ot3cZ2"
      },
      "outputs": [],
      "source": [
        "from torch.utils.data.dataset import Subset\n",
        "\n",
        "# Assuming label 0 for 'Healthy' and label 1 for 'Bipolar'\n",
        "healthy_indices = list(range(len(healthy_dataset)))\n",
        "bipolar_indices = list(range(len(bipolar_dataset)))\n"
      ]
    },
    {
      "cell_type": "code",
      "execution_count": null,
      "metadata": {
        "id": "B1SFGvyo3gXh"
      },
      "outputs": [],
      "source": [
        "\n",
        "# Shuffle the indices\n",
        "random.shuffle(healthy_indices)\n",
        "random.shuffle(bipolar_indices)\n"
      ]
    },
    {
      "cell_type": "code",
      "execution_count": null,
      "metadata": {
        "id": "-t0XgAUL3gPt"
      },
      "outputs": [],
      "source": [
        "\n",
        "# Split the indices into training and validation sets\n",
        "healthy_train_size = int(0.8 * len(healthy_indices))\n",
        "bipolar_train_size = int(0.8 * len(bipolar_indices))\n"
      ]
    },
    {
      "cell_type": "code",
      "execution_count": null,
      "metadata": {
        "id": "gv2ZKBvK3x2k"
      },
      "outputs": [],
      "source": [
        "\n",
        "\n",
        "healthy_train_indices = healthy_indices[:healthy_train_size]\n",
        "healthy_val_indices = healthy_indices[healthy_train_size:]"
      ]
    },
    {
      "cell_type": "code",
      "execution_count": null,
      "metadata": {
        "id": "Uy8HTAlC34v8"
      },
      "outputs": [],
      "source": [
        "\n",
        "\n",
        "bipolar_train_indices = bipolar_indices[:bipolar_train_size]\n",
        "bipolar_val_indices = bipolar_indices[bipolar_train_size:]\n"
      ]
    },
    {
      "cell_type": "code",
      "execution_count": null,
      "metadata": {
        "id": "voBrr-u-3_Td"
      },
      "outputs": [],
      "source": [
        "\n",
        "# Create Subset datasets using the selected indices\n",
        "healthy_train_dataset = Subset(healthy_dataset, healthy_train_indices)\n",
        "healthy_val_dataset = Subset(healthy_dataset, healthy_val_indices)"
      ]
    },
    {
      "cell_type": "code",
      "execution_count": null,
      "metadata": {
        "id": "6zj7kz0d3cX6"
      },
      "outputs": [],
      "source": [
        "\n",
        "\n",
        "bipolar_train_dataset = Subset(bipolar_dataset, bipolar_train_indices)\n",
        "bipolar_val_dataset = Subset(bipolar_dataset, bipolar_val_indices)\n",
        "\n",
        "# Combine the datasets into training and validation datasets\n",
        "train_dataset = torch.utils.data.ConcatDataset([healthy_train_dataset, bipolar_train_dataset])\n",
        "val_dataset = torch.utils.data.ConcatDataset([healthy_val_dataset, bipolar_val_dataset])\n"
      ]
    },
    {
      "cell_type": "code",
      "execution_count": null,
      "metadata": {
        "id": "fEGjaTgK3cTV"
      },
      "outputs": [],
      "source": [
        "from torch.utils.data import DataLoader\n",
        "\n",
        "# Create DataLoader for training and validation\n",
        "batch_size = 16\n",
        "train_dataloader = DataLoader(train_dataset, batch_size=batch_size, shuffle=True)\n",
        "val_dataloader = DataLoader(val_dataset, batch_size=batch_size, shuffle=False)\n"
      ]
    },
    {
      "cell_type": "code",
      "execution_count": null,
      "metadata": {
        "id": "k_La1IDv9qs6"
      },
      "outputs": [],
      "source": [
        "import torch.nn as nn\n",
        "import torch.nn.functional as F\n"
      ]
    },
    {
      "cell_type": "code",
      "execution_count": null,
      "metadata": {
        "id": "1-Zr88ir5AeY"
      },
      "outputs": [],
      "source": [
        "\n",
        "class ConvolutionalNetwork(nn.Module):\n",
        "    def __init__(self):\n",
        "        super(ConvolutionalNetwork, self).__init__()\n",
        "        # Convolutional layers\n",
        "        self.conv1 = nn.Conv2d(3, 64, kernel_size=7, stride=1, padding=3)\n",
        "        self.pool1 = nn.MaxPool2d(kernel_size=3, stride=3, padding=0)\n",
        "        self.conv2 = nn.Conv2d(64, 128, kernel_size=5, stride=1, padding=2)\n",
        "        self.pool2 = nn.MaxPool2d(kernel_size=3, stride=3, padding=0)\n",
        "        self.conv3 = nn.Conv2d(128, 256, kernel_size=5, stride=1, padding=2)\n",
        "        self.pool3 = nn.MaxPool2d(kernel_size=2, stride=3, padding=0)\n",
        "\n",
        "        # Fully connected layers\n",
        "        self.fc1 = nn.Linear(256 * 9 * 9, 1024)\n",
        "        self.fc2 = nn.Linear(1024, 512)\n",
        "        self.fc3 = nn.Linear(512, 128)\n",
        "        self.fc4 = nn.Linear(128, 64)\n",
        "        self.fc5 = nn.Linear(64, 2)  # Output has 2 classes\n",
        "\n",
        "    def forward(self, x):\n",
        "        x = F.relu(self.conv1(x))\n",
        "        x = self.pool1(x)\n",
        "        x = F.relu(self.conv2(x))\n",
        "        x = self.pool2(x)\n",
        "        x = F.relu(self.conv3(x))\n",
        "        x = self.pool3(x)\n",
        "\n",
        "        # Flatten before passing to fully connected layers\n",
        "        x = x.view(-1, 256 * 9 * 9)\n",
        "\n",
        "        x = F.relu(self.fc1(x))\n",
        "        x = F.relu(self.fc2(x))\n",
        "        x = F.relu(self.fc3(x))\n",
        "        x = F.relu(self.fc4(x))\n",
        "        x = self.fc5(x)\n",
        "\n",
        "        return F.log_softmax(x, dim=1)\n"
      ]
    },
    {
      "cell_type": "code",
      "execution_count": null,
      "metadata": {
        "colab": {
          "base_uri": "https://localhost:8080/"
        },
        "id": "zoIoIMdb-Ghj",
        "outputId": "d43bb9dd-7380-484b-dd96-22165edcb546"
      },
      "outputs": [
        {
          "data": {
            "text/plain": [
              "ConvolutionalNetwork(\n",
              "  (conv1): Conv2d(3, 64, kernel_size=(7, 7), stride=(1, 1), padding=(3, 3))\n",
              "  (pool1): MaxPool2d(kernel_size=3, stride=3, padding=0, dilation=1, ceil_mode=False)\n",
              "  (conv2): Conv2d(64, 128, kernel_size=(5, 5), stride=(1, 1), padding=(2, 2))\n",
              "  (pool2): MaxPool2d(kernel_size=3, stride=3, padding=0, dilation=1, ceil_mode=False)\n",
              "  (conv3): Conv2d(128, 256, kernel_size=(5, 5), stride=(1, 1), padding=(2, 2))\n",
              "  (pool3): MaxPool2d(kernel_size=2, stride=3, padding=0, dilation=1, ceil_mode=False)\n",
              "  (fc1): Linear(in_features=20736, out_features=1024, bias=True)\n",
              "  (fc2): Linear(in_features=1024, out_features=512, bias=True)\n",
              "  (fc3): Linear(in_features=512, out_features=128, bias=True)\n",
              "  (fc4): Linear(in_features=128, out_features=64, bias=True)\n",
              "  (fc5): Linear(in_features=64, out_features=2, bias=True)\n",
              ")"
            ]
          },
          "execution_count": 37,
          "metadata": {},
          "output_type": "execute_result"
        }
      ],
      "source": [
        "torch.manual_seed(42)\n",
        "model = ConvolutionalNetwork()\n",
        "model"
      ]
    },
    {
      "cell_type": "code",
      "execution_count": null,
      "metadata": {
        "id": "e_0dsopq-hF1"
      },
      "outputs": [],
      "source": [
        "criterion = nn.CrossEntropyLoss()\n",
        "optimizer = torch.optim.Adam(model.parameters(), lr=0.001)"
      ]
    },
    {
      "cell_type": "code",
      "execution_count": null,
      "metadata": {
        "colab": {
          "base_uri": "https://localhost:8080/"
        },
        "id": "11ybRRTn-wYP",
        "outputId": "8b59a575-50dd-441a-b6df-965b8e2ea102"
      },
      "outputs": [
        {
          "name": "stdout",
          "output_type": "stream",
          "text": [
            "Epoch 1, Batch 10, Training Loss: 0.6767, Training Accuracy: 50.00%\n",
            "Epoch 1, Validation Loss: 0.6156, Validation Accuracy: 50.00%\n",
            "Epoch 2, Batch 10, Training Loss: 0.7021, Training Accuracy: 50.00%\n",
            "Epoch 2, Validation Loss: 0.6373, Validation Accuracy: 50.00%\n",
            "Epoch 3, Batch 10, Training Loss: 0.6992, Training Accuracy: 50.00%\n",
            "Epoch 3, Validation Loss: 0.6593, Validation Accuracy: 50.00%\n",
            "Epoch 4, Batch 10, Training Loss: 0.6927, Training Accuracy: 46.25%\n",
            "Epoch 4, Validation Loss: 0.6862, Validation Accuracy: 50.00%\n",
            "Epoch 5, Batch 10, Training Loss: 0.7084, Training Accuracy: 50.00%\n",
            "Epoch 5, Validation Loss: 0.6391, Validation Accuracy: 50.00%\n",
            "Epoch 6, Batch 10, Training Loss: 0.6944, Training Accuracy: 50.00%\n",
            "Epoch 6, Validation Loss: 0.6437, Validation Accuracy: 50.00%\n",
            "Epoch 7, Batch 10, Training Loss: 0.6936, Training Accuracy: 50.00%\n",
            "Epoch 7, Validation Loss: 0.6589, Validation Accuracy: 50.00%\n",
            "Epoch 8, Batch 10, Training Loss: 0.6898, Training Accuracy: 50.00%\n",
            "Epoch 8, Validation Loss: 0.6802, Validation Accuracy: 50.00%\n",
            "Epoch 9, Batch 10, Training Loss: 0.6917, Training Accuracy: 50.00%\n",
            "Epoch 9, Validation Loss: 0.6851, Validation Accuracy: 50.00%\n",
            "Epoch 10, Batch 10, Training Loss: 0.6925, Training Accuracy: 50.00%\n",
            "Epoch 10, Validation Loss: 0.6872, Validation Accuracy: 50.00%\n",
            "Epoch 11, Batch 10, Training Loss: 0.6986, Training Accuracy: 46.25%\n",
            "Epoch 11, Validation Loss: 0.7056, Validation Accuracy: 50.00%\n",
            "Epoch 12, Batch 10, Training Loss: 0.6933, Training Accuracy: 48.75%\n",
            "Epoch 12, Validation Loss: 0.6594, Validation Accuracy: 50.00%\n",
            "Epoch 13, Batch 10, Training Loss: 0.6826, Training Accuracy: 50.00%\n",
            "Epoch 13, Validation Loss: 0.6667, Validation Accuracy: 50.00%\n",
            "Epoch 14, Batch 10, Training Loss: 0.6847, Training Accuracy: 50.00%\n",
            "Epoch 14, Validation Loss: 0.6579, Validation Accuracy: 50.00%\n",
            "Epoch 15, Batch 10, Training Loss: 0.7197, Training Accuracy: 50.00%\n",
            "Epoch 15, Validation Loss: 0.6544, Validation Accuracy: 50.00%\n",
            "Epoch 16, Batch 10, Training Loss: 0.6935, Training Accuracy: 50.00%\n",
            "Epoch 16, Validation Loss: 0.6697, Validation Accuracy: 50.00%\n",
            "Epoch 17, Batch 10, Training Loss: 0.6916, Training Accuracy: 50.00%\n",
            "Epoch 17, Validation Loss: 0.6824, Validation Accuracy: 50.00%\n",
            "Epoch 18, Batch 10, Training Loss: 0.6934, Training Accuracy: 42.50%\n",
            "Epoch 18, Validation Loss: 0.6947, Validation Accuracy: 50.00%\n",
            "Epoch 19, Batch 10, Training Loss: 0.6982, Training Accuracy: 47.50%\n",
            "Epoch 19, Validation Loss: 0.6801, Validation Accuracy: 50.00%\n",
            "Epoch 20, Batch 10, Training Loss: 0.6925, Training Accuracy: 50.00%\n",
            "Epoch 20, Validation Loss: 0.6881, Validation Accuracy: 50.00%\n",
            "Epoch 21, Batch 10, Training Loss: 0.6911, Training Accuracy: 50.00%\n",
            "Epoch 21, Validation Loss: 0.6869, Validation Accuracy: 50.00%\n",
            "Epoch 22, Batch 10, Training Loss: 0.6944, Training Accuracy: 46.88%\n",
            "Epoch 22, Validation Loss: 0.6970, Validation Accuracy: 50.00%\n",
            "Epoch 23, Batch 10, Training Loss: 0.6934, Training Accuracy: 47.50%\n",
            "Epoch 23, Validation Loss: 0.6899, Validation Accuracy: 50.00%\n",
            "Epoch 24, Batch 10, Training Loss: 0.6974, Training Accuracy: 50.00%\n",
            "Epoch 24, Validation Loss: 0.7049, Validation Accuracy: 50.00%\n",
            "Epoch 25, Batch 10, Training Loss: 0.7011, Training Accuracy: 46.25%\n",
            "Epoch 25, Validation Loss: 0.6965, Validation Accuracy: 50.00%\n",
            "\n",
            "Duration: 106 seconds\n"
          ]
        }
      ],
      "source": [
        "import time\n",
        "start_time = time.time()\n",
        "\n",
        "epochs = 25\n",
        "train_losses = []\n",
        "test_losses = []\n",
        "train_correct = []\n",
        "test_correct = []\n",
        "\n",
        "# Move the model to GPU if available\n",
        "device = torch.device(\"cuda\" if torch.cuda.is_available() else \"cpu\")\n",
        "model.to(device)\n",
        "\n",
        "for i in range(epochs):\n",
        "    trn_corr = 0\n",
        "    tst_corr = 0\n",
        "\n",
        "    # Run the training batches\n",
        "    for b, (X_train, y_train) in enumerate(train_dataloader):\n",
        "        b += 1\n",
        "\n",
        "        # Move data to the same device as the model\n",
        "        X_train, y_train = X_train.to(device), y_train.to(device)\n",
        "\n",
        "        # Apply the model\n",
        "        y_pred = model(X_train)\n",
        "        loss = criterion(y_pred, y_train)\n",
        "\n",
        "        # Tally the number of correct predictions\n",
        "        predicted = torch.max(y_pred.data, 1)[1]\n",
        "        batch_corr = (predicted == y_train).sum()\n",
        "        trn_corr += batch_corr\n",
        "\n",
        "        # Update parameters\n",
        "        optimizer.zero_grad()\n",
        "        loss.backward()\n",
        "        optimizer.step()\n",
        "\n",
        "        # Print interim results\n",
        "        if b % len(train_dataloader) == 0:\n",
        "            train_loss = loss.item()\n",
        "            train_acc = trn_corr.item() * 100 / (b * 16)\n",
        "            print(f'Epoch {i + 1}, Batch {b}, Training Loss: {train_loss:.4f}, Training Accuracy: {train_acc:.2f}%')\n",
        "\n",
        "    train_losses.append(loss)\n",
        "    train_correct.append(trn_corr)\n",
        "\n",
        "    # Run the testing batches\n",
        "    with torch.no_grad():\n",
        "        for b, (X_test, y_test) in enumerate(val_dataloader):\n",
        "\n",
        "            # Move data to the same device as the model\n",
        "            X_test, y_test = X_test.to(device), y_test.to(device)\n",
        "\n",
        "            # Apply the model\n",
        "            y_val = model(X_test)\n",
        "\n",
        "            # Tally the number of correct predictions\n",
        "            predicted = torch.max(y_val.data, 1)[1]\n",
        "            tst_corr += (predicted == y_test).sum()\n",
        "\n",
        "        val_loss = criterion(y_val, y_test).item()\n",
        "        val_acc = tst_corr.item() * 100 / len(val_dataloader.dataset)\n",
        "        print(f'Epoch {i + 1}, Validation Loss: {val_loss:.4f}, Validation Accuracy: {val_acc:.2f}%')\n",
        "\n",
        "    test_losses.append(val_loss)\n",
        "    test_correct.append(tst_corr)\n",
        "\n",
        "print(f'\\nDuration: {time.time() - start_time:.0f} seconds')  # Print the time elapsed\n"
      ]
    },
    {
      "cell_type": "code",
      "execution_count": null,
      "metadata": {
        "id": "BNMD6YMoCt-D"
      },
      "outputs": [],
      "source": []
    }
  ],
  "metadata": {
    "accelerator": "GPU",
    "colab": {
      "gpuType": "V100",
      "machine_shape": "hm",
      "provenance": []
    },
    "kernelspec": {
      "display_name": "Python 3",
      "name": "python3"
    },
    "language_info": {
      "codemirror_mode": {
        "name": "ipython",
        "version": 3
      },
      "file_extension": ".py",
      "mimetype": "text/x-python",
      "name": "python",
      "nbconvert_exporter": "python",
      "pygments_lexer": "ipython3",
      "version": "3.11.5"
    }
  },
  "nbformat": 4,
  "nbformat_minor": 0
}
